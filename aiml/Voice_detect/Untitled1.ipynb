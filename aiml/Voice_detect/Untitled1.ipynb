{
 "cells": [
  {
   "cell_type": "code",
   "execution_count": 49,
   "id": "ea5d12df-34fb-473b-8e0f-dcabb7c0bcf2",
   "metadata": {},
   "outputs": [],
   "source": [
    "import numpy as np\n",
    "import pandas as pd\n",
    "from sklearn.model_selection import train_test_split\n",
    "from sklearn.ensemble import RandomForestClassifier  # You can also try other classifiers\n",
    "from sklearn.metrics import accuracy_score, classification_report\n",
    "import joblib  # To save the model\n"
   ]
  },
  {
   "cell_type": "code",
   "execution_count": 50,
   "id": "13dbd71e-10e8-47bc-8a1e-afa855f16287",
   "metadata": {},
   "outputs": [
    {
     "name": "stdout",
     "output_type": "stream",
     "text": [
      "          name                                               path  channels  \\\n",
      "0   Lion_1.wav  D:\\hackethon\\codecrafter 2.0\\Real-time-intrusi...         2   \n",
      "1  Lion_10.wav  D:\\hackethon\\codecrafter 2.0\\Real-time-intrusi...         2   \n",
      "2  Lion_11.wav  D:\\hackethon\\codecrafter 2.0\\Real-time-intrusi...         1   \n",
      "3  Lion_12.wav  D:\\hackethon\\codecrafter 2.0\\Real-time-intrusi...         1   \n",
      "4  Lion_13.wav  D:\\hackethon\\codecrafter 2.0\\Real-time-intrusi...         1   \n",
      "\n",
      "   sample_width  frame_rate  nframes  duration  size Unnamed: 8  \n",
      "0             2       22050    99296  4.503220  4096        NaN  \n",
      "1             2       11025    75964  6.890159  4096        NaN  \n",
      "2             1       22000    31744  1.442909  4096        NaN  \n",
      "3             2       11025    87108  7.900952  4096        NaN  \n",
      "4             1       11025    93972  8.523537  4096        NaN  \n"
     ]
    }
   ],
   "source": [
    "import pandas as pd\n",
    "\n",
    "# Step 1: Load your CSV file (make sure to update this with the correct file path)\n",
    "csv_path = r\"D:\\hackethon\\codecrafter 2.0\\Real-time-intrusion-Classification-and-Alerting\\aiml\\Voice_detect\\data\\dataset\\Animal_Sound.csv\"\n",
    "df = pd.read_csv(csv_path)\n",
    "\n",
    "# Preview the data to see the columns\n",
    "print(df.head())\n"
   ]
  },
  {
   "cell_type": "code",
   "execution_count": 51,
   "id": "c300dcae-560a-4cc4-be77-e996bcc9e118",
   "metadata": {},
   "outputs": [
    {
     "name": "stdout",
     "output_type": "stream",
     "text": [
      "          name category\n",
      "0   Lion_1.wav     Lion\n",
      "1  Lion_10.wav     Lion\n",
      "2  Lion_11.wav     Lion\n",
      "3  Lion_12.wav     Lion\n",
      "4  Lion_13.wav     Lion\n"
     ]
    }
   ],
   "source": [
    "# Step 3: Extract the animal category from the 'name' column\n",
    "df['category'] = df['name'].str.split('_').str[0]\n",
    "\n",
    "# Preview the data\n",
    "print(df[['name', 'category']].head())\n"
   ]
  },
  {
   "cell_type": "code",
   "execution_count": 52,
   "id": "8c13e9b7-ec87-4447-90e7-454a6b744f0a",
   "metadata": {
    "scrolled": true
   },
   "outputs": [
    {
     "name": "stdout",
     "output_type": "stream",
     "text": [
      "          name category                                          full_path\n",
      "0   Lion_1.wav     Lion  D:/hackethon/codecrafter 2.0/Real-time-intrusi...\n",
      "1  Lion_10.wav     Lion  D:/hackethon/codecrafter 2.0/Real-time-intrusi...\n",
      "2  Lion_11.wav     Lion  D:/hackethon/codecrafter 2.0/Real-time-intrusi...\n",
      "3  Lion_12.wav     Lion  D:/hackethon/codecrafter 2.0/Real-time-intrusi...\n",
      "4  Lion_13.wav     Lion  D:/hackethon/codecrafter 2.0/Real-time-intrusi...\n"
     ]
    }
   ],
   "source": [
    "import os\n",
    "\n",
    "# Step 4: Construct full path using category and name\n",
    "base_folder = r\"D:/hackethon/codecrafter 2.0/Real-time-intrusion-Classification-and-Alerting/aiml/Voice_detect/data/dataset/Animal-Soundprepros\"\n",
    "\n",
    "# Construct the full path\n",
    "df['full_path'] = df.apply(lambda row: os.path.join(base_folder, row['category'], row['name']), axis=1)\n",
    "\n",
    "# Verify full paths\n",
    "print(df[['name', 'category', 'full_path']].head())\n"
   ]
  },
  {
   "cell_type": "code",
   "execution_count": 53,
   "id": "9b93d301-26a6-40a7-bd66-e975e403c40c",
   "metadata": {},
   "outputs": [
    {
     "name": "stdout",
     "output_type": "stream",
     "text": [
      "                                           full_path  file_exists\n",
      "0  D:/hackethon/codecrafter 2.0/Real-time-intrusi...        False\n",
      "1  D:/hackethon/codecrafter 2.0/Real-time-intrusi...        False\n",
      "2  D:/hackethon/codecrafter 2.0/Real-time-intrusi...        False\n",
      "3  D:/hackethon/codecrafter 2.0/Real-time-intrusi...        False\n",
      "4  D:/hackethon/codecrafter 2.0/Real-time-intrusi...        False\n"
     ]
    }
   ],
   "source": [
    "# Step 5: Check if files exist in the full path\n",
    "df['file_exists'] = df['full_path'].apply(os.path.exists)\n",
    "\n",
    "# Verify the result\n",
    "print(df[['full_path', 'file_exists']].head())\n"
   ]
  },
  {
   "cell_type": "code",
   "execution_count": 54,
   "id": "b10032d2-dd84-4be7-b51f-3a4c9d7f8217",
   "metadata": {},
   "outputs": [
    {
     "name": "stdout",
     "output_type": "stream",
     "text": [
      "                                                path  \\\n",
      "0  D:\\hackethon\\codecrafter 2.0\\Real-time-intrusi...   \n",
      "1  D:\\hackethon\\codecrafter 2.0\\Real-time-intrusi...   \n",
      "2  D:\\hackethon\\codecrafter 2.0\\Real-time-intrusi...   \n",
      "3  D:\\hackethon\\codecrafter 2.0\\Real-time-intrusi...   \n",
      "4  D:\\hackethon\\codecrafter 2.0\\Real-time-intrusi...   \n",
      "\n",
      "                                           full_path  file_exists  \n",
      "0  D:\\hackethon\\codecrafter 2.0\\Real-time-intrusi...         True  \n",
      "1  D:\\hackethon\\codecrafter 2.0\\Real-time-intrusi...         True  \n",
      "2  D:\\hackethon\\codecrafter 2.0\\Real-time-intrusi...         True  \n",
      "3  D:\\hackethon\\codecrafter 2.0\\Real-time-intrusi...         True  \n",
      "4  D:\\hackethon\\codecrafter 2.0\\Real-time-intrusi...         True  \n"
     ]
    }
   ],
   "source": [
    "import os\n",
    "import pandas as pd\n",
    "\n",
    "# Load your CSV file\n",
    "csv_path = r\"D:\\hackethon\\codecrafter 2.0\\Real-time-intrusion-Classification-and-Alerting\\aiml\\Voice_detect\\data\\dataset\\Animal_Sound.csv\"\n",
    "df = pd.read_csv(csv_path)\n",
    "\n",
    "# Define the base folder (where your audio files are located)\n",
    "base_folder = r\"D:/hackethon/codecrafter 2.0/Real-time-intrusion-Classification-and-Alerting/aiml/Voice_detect/data/dataset/Animal-Soundprepros\"\n",
    "\n",
    "# Step 1: Create full path by combining base folder and path\n",
    "df['full_path'] = df['path'].apply(lambda x: os.path.join(base_folder, x))\n",
    "\n",
    "# Step 2: Check if the files exist\n",
    "df['file_exists'] = df['full_path'].apply(os.path.exists)\n",
    "\n",
    "# Step 3: Verify the result\n",
    "print(df[['path', 'full_path', 'file_exists']].head())\n"
   ]
  },
  {
   "cell_type": "code",
   "execution_count": 55,
   "id": "1a96525d-d920-469a-b9ff-eaa875251a90",
   "metadata": {},
   "outputs": [],
   "source": [
    "import os\n",
    "\n",
    "# Ensure that the path points to a file, not a directory\n",
    "df['path'] = df['path'].apply(lambda x: x if os.path.isfile(x) else None)\n",
    "\n",
    "# Filter out rows where path is None (invalid paths)\n",
    "df = df.dropna(subset=['path'])\n"
   ]
  },
  {
   "cell_type": "code",
   "execution_count": 56,
   "id": "6374e4b8-694e-490e-a536-359cfac9170d",
   "metadata": {},
   "outputs": [],
   "source": [
    "import os\n",
    "\n",
    "def extract_features(file_path):\n",
    "    if not os.path.exists(file_path):\n",
    "        print(f\"File does not exist: {file_path}\")\n",
    "        return None\n",
    "    try:\n",
    "        audio, sr = librosa.load(file_path, sr=None)\n",
    "        mfcc = librosa.feature.mfcc(y=audio, sr=sr, n_mfcc=13)  # Extract MFCCs\n",
    "        mfcc = np.mean(mfcc, axis=1)  # Take mean of MFCCs for each file\n",
    "        return mfcc\n",
    "    except Exception as e:\n",
    "        print(f\"Error extracting features from {file_path}: {e}\")\n",
    "        return None\n"
   ]
  },
  {
   "cell_type": "code",
   "execution_count": 61,
   "id": "e7a28fb6-23c9-4345-b058-b5abca059da1",
   "metadata": {},
   "outputs": [
    {
     "name": "stdout",
     "output_type": "stream",
     "text": [
      "Empty DataFrame\n",
      "Columns: [name, features]\n",
      "Index: []\n"
     ]
    }
   ],
   "source": [
    "import librosa\n",
    "import pandas as pd\n",
    "import numpy as np\n",
    "import os\n",
    "\n",
    "# Assuming your DataFrame `df` has a 'full_path' column with the full paths to the audio files\n",
    "def extract_features(file_path):\n",
    "    try:\n",
    "        print(f\"Loading file: {file_path}\")  # Debug: Check which file is being processed\n",
    "        \n",
    "        if not os.path.exists(file_path):\n",
    "            print(f\"File does not exist: {file_path}\")  # Debug: Check if the file exists\n",
    "            return np.nan\n",
    "        \n",
    "        # Load the audio file\n",
    "        audio, sr = librosa.load(file_path, sr=None)\n",
    "        \n",
    "        # Extract MFCC features (e.g., 13 MFCC coefficients)\n",
    "        mfccs = librosa.feature.mfcc(y=audio, sr=sr, n_mfcc=13)\n",
    "        \n",
    "        # Average the MFCCs across time frames\n",
    "        mfccs_mean = np.mean(mfccs, axis=1)  # Reduce dimensionality by averaging\n",
    "        \n",
    "        print(f\"Extracted features for {file_path}\")  # Debug: Confirmation that features are extracted\n",
    "        return mfccs_mean\n",
    "    except Exception as e:\n",
    "        print(f\"Error extracting features from {file_path}: {e}\")\n",
    "        return np.nan  # Return NaN if there's an error\n",
    "\n",
    "# Apply the feature extraction to each row in the DataFrame\n",
    "df['features'] = df['full_path'].apply(lambda x: extract_features(x) if os.path.exists(x) else np.nan)\n",
    "\n",
    "# Verify the DataFrame now has the 'features' column\n",
    "print(df[['name', 'features']].head())  # Display the first few rows of the DataFrame\n"
   ]
  },
  {
   "cell_type": "code",
   "execution_count": 59,
   "id": "470c09b9-8980-49da-b9fb-02fd22fa8040",
   "metadata": {},
   "outputs": [
    {
     "ename": "KeyError",
     "evalue": "'category'",
     "output_type": "error",
     "traceback": [
      "\u001b[31m---------------------------------------------------------------------------\u001b[39m",
      "\u001b[31mKeyError\u001b[39m                                  Traceback (most recent call last)",
      "\u001b[36mFile \u001b[39m\u001b[32mD:\\hackethon\\codecrafter 2.0\\Real-time-intrusion-Classification-and-Alerting\\aiml\\.venv\\Lib\\site-packages\\pandas\\core\\indexes\\base.py:3805\u001b[39m, in \u001b[36mIndex.get_loc\u001b[39m\u001b[34m(self, key)\u001b[39m\n\u001b[32m   3804\u001b[39m \u001b[38;5;28;01mtry\u001b[39;00m:\n\u001b[32m-> \u001b[39m\u001b[32m3805\u001b[39m     \u001b[38;5;28;01mreturn\u001b[39;00m \u001b[38;5;28;43mself\u001b[39;49m\u001b[43m.\u001b[49m\u001b[43m_engine\u001b[49m\u001b[43m.\u001b[49m\u001b[43mget_loc\u001b[49m\u001b[43m(\u001b[49m\u001b[43mcasted_key\u001b[49m\u001b[43m)\u001b[49m\n\u001b[32m   3806\u001b[39m \u001b[38;5;28;01mexcept\u001b[39;00m \u001b[38;5;167;01mKeyError\u001b[39;00m \u001b[38;5;28;01mas\u001b[39;00m err:\n",
      "\u001b[36mFile \u001b[39m\u001b[32mindex.pyx:167\u001b[39m, in \u001b[36mpandas._libs.index.IndexEngine.get_loc\u001b[39m\u001b[34m()\u001b[39m\n",
      "\u001b[36mFile \u001b[39m\u001b[32mindex.pyx:196\u001b[39m, in \u001b[36mpandas._libs.index.IndexEngine.get_loc\u001b[39m\u001b[34m()\u001b[39m\n",
      "\u001b[36mFile \u001b[39m\u001b[32mpandas\\\\_libs\\\\hashtable_class_helper.pxi:7081\u001b[39m, in \u001b[36mpandas._libs.hashtable.PyObjectHashTable.get_item\u001b[39m\u001b[34m()\u001b[39m\n",
      "\u001b[36mFile \u001b[39m\u001b[32mpandas\\\\_libs\\\\hashtable_class_helper.pxi:7089\u001b[39m, in \u001b[36mpandas._libs.hashtable.PyObjectHashTable.get_item\u001b[39m\u001b[34m()\u001b[39m\n",
      "\u001b[31mKeyError\u001b[39m: 'category'",
      "\nThe above exception was the direct cause of the following exception:\n",
      "\u001b[31mKeyError\u001b[39m                                  Traceback (most recent call last)",
      "\u001b[36mCell\u001b[39m\u001b[36m \u001b[39m\u001b[32mIn[59]\u001b[39m\u001b[32m, line 7\u001b[39m\n\u001b[32m      5\u001b[39m \u001b[38;5;66;03m# Extract features (X) and labels (y)\u001b[39;00m\n\u001b[32m      6\u001b[39m X = np.array(df[\u001b[33m'\u001b[39m\u001b[33mfeatures\u001b[39m\u001b[33m'\u001b[39m].tolist())  \u001b[38;5;66;03m# Convert list of features into an array\u001b[39;00m\n\u001b[32m----> \u001b[39m\u001b[32m7\u001b[39m y = \u001b[43mdf\u001b[49m\u001b[43m[\u001b[49m\u001b[33;43m'\u001b[39;49m\u001b[33;43mcategory\u001b[39;49m\u001b[33;43m'\u001b[39;49m\u001b[43m]\u001b[49m\n\u001b[32m      9\u001b[39m \u001b[38;5;66;03m# Split the data into training and testing sets (80% train, 20% test)\u001b[39;00m\n\u001b[32m     10\u001b[39m X_train, X_test, y_train, y_test = train_test_split(X, y, test_size=\u001b[32m0.2\u001b[39m, random_state=\u001b[32m42\u001b[39m)\n",
      "\u001b[36mFile \u001b[39m\u001b[32mD:\\hackethon\\codecrafter 2.0\\Real-time-intrusion-Classification-and-Alerting\\aiml\\.venv\\Lib\\site-packages\\pandas\\core\\frame.py:4102\u001b[39m, in \u001b[36mDataFrame.__getitem__\u001b[39m\u001b[34m(self, key)\u001b[39m\n\u001b[32m   4100\u001b[39m \u001b[38;5;28;01mif\u001b[39;00m \u001b[38;5;28mself\u001b[39m.columns.nlevels > \u001b[32m1\u001b[39m:\n\u001b[32m   4101\u001b[39m     \u001b[38;5;28;01mreturn\u001b[39;00m \u001b[38;5;28mself\u001b[39m._getitem_multilevel(key)\n\u001b[32m-> \u001b[39m\u001b[32m4102\u001b[39m indexer = \u001b[38;5;28;43mself\u001b[39;49m\u001b[43m.\u001b[49m\u001b[43mcolumns\u001b[49m\u001b[43m.\u001b[49m\u001b[43mget_loc\u001b[49m\u001b[43m(\u001b[49m\u001b[43mkey\u001b[49m\u001b[43m)\u001b[49m\n\u001b[32m   4103\u001b[39m \u001b[38;5;28;01mif\u001b[39;00m is_integer(indexer):\n\u001b[32m   4104\u001b[39m     indexer = [indexer]\n",
      "\u001b[36mFile \u001b[39m\u001b[32mD:\\hackethon\\codecrafter 2.0\\Real-time-intrusion-Classification-and-Alerting\\aiml\\.venv\\Lib\\site-packages\\pandas\\core\\indexes\\base.py:3812\u001b[39m, in \u001b[36mIndex.get_loc\u001b[39m\u001b[34m(self, key)\u001b[39m\n\u001b[32m   3807\u001b[39m     \u001b[38;5;28;01mif\u001b[39;00m \u001b[38;5;28misinstance\u001b[39m(casted_key, \u001b[38;5;28mslice\u001b[39m) \u001b[38;5;129;01mor\u001b[39;00m (\n\u001b[32m   3808\u001b[39m         \u001b[38;5;28misinstance\u001b[39m(casted_key, abc.Iterable)\n\u001b[32m   3809\u001b[39m         \u001b[38;5;129;01mand\u001b[39;00m \u001b[38;5;28many\u001b[39m(\u001b[38;5;28misinstance\u001b[39m(x, \u001b[38;5;28mslice\u001b[39m) \u001b[38;5;28;01mfor\u001b[39;00m x \u001b[38;5;129;01min\u001b[39;00m casted_key)\n\u001b[32m   3810\u001b[39m     ):\n\u001b[32m   3811\u001b[39m         \u001b[38;5;28;01mraise\u001b[39;00m InvalidIndexError(key)\n\u001b[32m-> \u001b[39m\u001b[32m3812\u001b[39m     \u001b[38;5;28;01mraise\u001b[39;00m \u001b[38;5;167;01mKeyError\u001b[39;00m(key) \u001b[38;5;28;01mfrom\u001b[39;00m\u001b[38;5;250m \u001b[39m\u001b[34;01merr\u001b[39;00m\n\u001b[32m   3813\u001b[39m \u001b[38;5;28;01mexcept\u001b[39;00m \u001b[38;5;167;01mTypeError\u001b[39;00m:\n\u001b[32m   3814\u001b[39m     \u001b[38;5;66;03m# If we have a listlike key, _check_indexing_error will raise\u001b[39;00m\n\u001b[32m   3815\u001b[39m     \u001b[38;5;66;03m#  InvalidIndexError. Otherwise we fall through and re-raise\u001b[39;00m\n\u001b[32m   3816\u001b[39m     \u001b[38;5;66;03m#  the TypeError.\u001b[39;00m\n\u001b[32m   3817\u001b[39m     \u001b[38;5;28mself\u001b[39m._check_indexing_error(key)\n",
      "\u001b[31mKeyError\u001b[39m: 'category'"
     ]
    }
   ],
   "source": [
    "from sklearn.model_selection import train_test_split\n",
    "from sklearn.ensemble import RandomForestClassifier\n",
    "from sklearn.metrics import accuracy_score\n",
    "\n",
    "# Extract features (X) and labels (y)\n",
    "X = np.array(df['features'].tolist())  # Convert list of features into an array\n",
    "y = df['category']\n",
    "\n",
    "# Split the data into training and testing sets (80% train, 20% test)\n",
    "X_train, X_test, y_train, y_test = train_test_split(X, y, test_size=0.2, random_state=42)\n",
    "\n",
    "# Initialize and train the model\n",
    "model = RandomForestClassifier(n_estimators=100, random_state=42)\n",
    "model.fit(X_train, y_train)\n",
    "\n",
    "# Make predictions\n",
    "y_pred = model.predict(X_test)\n",
    "\n",
    "# Evaluate the model\n",
    "accuracy = accuracy_score(y_test, y_pred)\n",
    "print(f\"Model Accuracy: {accuracy:.4f}\")\n"
   ]
  },
  {
   "cell_type": "code",
   "execution_count": 60,
   "id": "9cffd794-094d-4f84-926b-231586c690f5",
   "metadata": {},
   "outputs": [
    {
     "ename": "KeyError",
     "evalue": "'category'",
     "output_type": "error",
     "traceback": [
      "\u001b[31m---------------------------------------------------------------------------\u001b[39m",
      "\u001b[31mKeyError\u001b[39m                                  Traceback (most recent call last)",
      "\u001b[36mFile \u001b[39m\u001b[32mD:\\hackethon\\codecrafter 2.0\\Real-time-intrusion-Classification-and-Alerting\\aiml\\.venv\\Lib\\site-packages\\pandas\\core\\indexes\\base.py:3805\u001b[39m, in \u001b[36mIndex.get_loc\u001b[39m\u001b[34m(self, key)\u001b[39m\n\u001b[32m   3804\u001b[39m \u001b[38;5;28;01mtry\u001b[39;00m:\n\u001b[32m-> \u001b[39m\u001b[32m3805\u001b[39m     \u001b[38;5;28;01mreturn\u001b[39;00m \u001b[38;5;28;43mself\u001b[39;49m\u001b[43m.\u001b[49m\u001b[43m_engine\u001b[49m\u001b[43m.\u001b[49m\u001b[43mget_loc\u001b[49m\u001b[43m(\u001b[49m\u001b[43mcasted_key\u001b[49m\u001b[43m)\u001b[49m\n\u001b[32m   3806\u001b[39m \u001b[38;5;28;01mexcept\u001b[39;00m \u001b[38;5;167;01mKeyError\u001b[39;00m \u001b[38;5;28;01mas\u001b[39;00m err:\n",
      "\u001b[36mFile \u001b[39m\u001b[32mindex.pyx:167\u001b[39m, in \u001b[36mpandas._libs.index.IndexEngine.get_loc\u001b[39m\u001b[34m()\u001b[39m\n",
      "\u001b[36mFile \u001b[39m\u001b[32mindex.pyx:196\u001b[39m, in \u001b[36mpandas._libs.index.IndexEngine.get_loc\u001b[39m\u001b[34m()\u001b[39m\n",
      "\u001b[36mFile \u001b[39m\u001b[32mpandas\\\\_libs\\\\hashtable_class_helper.pxi:7081\u001b[39m, in \u001b[36mpandas._libs.hashtable.PyObjectHashTable.get_item\u001b[39m\u001b[34m()\u001b[39m\n",
      "\u001b[36mFile \u001b[39m\u001b[32mpandas\\\\_libs\\\\hashtable_class_helper.pxi:7089\u001b[39m, in \u001b[36mpandas._libs.hashtable.PyObjectHashTable.get_item\u001b[39m\u001b[34m()\u001b[39m\n",
      "\u001b[31mKeyError\u001b[39m: 'category'",
      "\nThe above exception was the direct cause of the following exception:\n",
      "\u001b[31mKeyError\u001b[39m                                  Traceback (most recent call last)",
      "\u001b[36mCell\u001b[39m\u001b[36m \u001b[39m\u001b[32mIn[60]\u001b[39m\u001b[32m, line 3\u001b[39m\n\u001b[32m      1\u001b[39m \u001b[38;5;66;03m# Extract features (X) and labels (y)\u001b[39;00m\n\u001b[32m      2\u001b[39m X = np.array(df[\u001b[33m'\u001b[39m\u001b[33mfeatures\u001b[39m\u001b[33m'\u001b[39m].tolist())  \u001b[38;5;66;03m# Convert list of features into an array\u001b[39;00m\n\u001b[32m----> \u001b[39m\u001b[32m3\u001b[39m y = \u001b[43mdf\u001b[49m\u001b[43m[\u001b[49m\u001b[33;43m'\u001b[39;49m\u001b[33;43mcategory\u001b[39;49m\u001b[33;43m'\u001b[39;49m\u001b[43m]\u001b[49m\n\u001b[32m      5\u001b[39m \u001b[38;5;66;03m# Split the data into training and testing sets (80% train, 20% test)\u001b[39;00m\n\u001b[32m      6\u001b[39m X_train, X_test, y_train, y_test = train_test_split(X, y, test_size=\u001b[32m0.2\u001b[39m, random_state=\u001b[32m42\u001b[39m)\n",
      "\u001b[36mFile \u001b[39m\u001b[32mD:\\hackethon\\codecrafter 2.0\\Real-time-intrusion-Classification-and-Alerting\\aiml\\.venv\\Lib\\site-packages\\pandas\\core\\frame.py:4102\u001b[39m, in \u001b[36mDataFrame.__getitem__\u001b[39m\u001b[34m(self, key)\u001b[39m\n\u001b[32m   4100\u001b[39m \u001b[38;5;28;01mif\u001b[39;00m \u001b[38;5;28mself\u001b[39m.columns.nlevels > \u001b[32m1\u001b[39m:\n\u001b[32m   4101\u001b[39m     \u001b[38;5;28;01mreturn\u001b[39;00m \u001b[38;5;28mself\u001b[39m._getitem_multilevel(key)\n\u001b[32m-> \u001b[39m\u001b[32m4102\u001b[39m indexer = \u001b[38;5;28;43mself\u001b[39;49m\u001b[43m.\u001b[49m\u001b[43mcolumns\u001b[49m\u001b[43m.\u001b[49m\u001b[43mget_loc\u001b[49m\u001b[43m(\u001b[49m\u001b[43mkey\u001b[49m\u001b[43m)\u001b[49m\n\u001b[32m   4103\u001b[39m \u001b[38;5;28;01mif\u001b[39;00m is_integer(indexer):\n\u001b[32m   4104\u001b[39m     indexer = [indexer]\n",
      "\u001b[36mFile \u001b[39m\u001b[32mD:\\hackethon\\codecrafter 2.0\\Real-time-intrusion-Classification-and-Alerting\\aiml\\.venv\\Lib\\site-packages\\pandas\\core\\indexes\\base.py:3812\u001b[39m, in \u001b[36mIndex.get_loc\u001b[39m\u001b[34m(self, key)\u001b[39m\n\u001b[32m   3807\u001b[39m     \u001b[38;5;28;01mif\u001b[39;00m \u001b[38;5;28misinstance\u001b[39m(casted_key, \u001b[38;5;28mslice\u001b[39m) \u001b[38;5;129;01mor\u001b[39;00m (\n\u001b[32m   3808\u001b[39m         \u001b[38;5;28misinstance\u001b[39m(casted_key, abc.Iterable)\n\u001b[32m   3809\u001b[39m         \u001b[38;5;129;01mand\u001b[39;00m \u001b[38;5;28many\u001b[39m(\u001b[38;5;28misinstance\u001b[39m(x, \u001b[38;5;28mslice\u001b[39m) \u001b[38;5;28;01mfor\u001b[39;00m x \u001b[38;5;129;01min\u001b[39;00m casted_key)\n\u001b[32m   3810\u001b[39m     ):\n\u001b[32m   3811\u001b[39m         \u001b[38;5;28;01mraise\u001b[39;00m InvalidIndexError(key)\n\u001b[32m-> \u001b[39m\u001b[32m3812\u001b[39m     \u001b[38;5;28;01mraise\u001b[39;00m \u001b[38;5;167;01mKeyError\u001b[39;00m(key) \u001b[38;5;28;01mfrom\u001b[39;00m\u001b[38;5;250m \u001b[39m\u001b[34;01merr\u001b[39;00m\n\u001b[32m   3813\u001b[39m \u001b[38;5;28;01mexcept\u001b[39;00m \u001b[38;5;167;01mTypeError\u001b[39;00m:\n\u001b[32m   3814\u001b[39m     \u001b[38;5;66;03m# If we have a listlike key, _check_indexing_error will raise\u001b[39;00m\n\u001b[32m   3815\u001b[39m     \u001b[38;5;66;03m#  InvalidIndexError. Otherwise we fall through and re-raise\u001b[39;00m\n\u001b[32m   3816\u001b[39m     \u001b[38;5;66;03m#  the TypeError.\u001b[39;00m\n\u001b[32m   3817\u001b[39m     \u001b[38;5;28mself\u001b[39m._check_indexing_error(key)\n",
      "\u001b[31mKeyError\u001b[39m: 'category'"
     ]
    }
   ],
   "source": [
    "# Extract features (X) and labels (y)\n",
    "X = np.array(df['features'].tolist())  # Convert list of features into an array\n",
    "y = df['category']\n",
    "\n",
    "# Split the data into training and testing sets (80% train, 20% test)\n",
    "X_train, X_test, y_train, y_test = train_test_split(X, y, test_size=0.2, random_state=42)\n",
    "\n",
    "# Check shapes to confirm\n",
    "print(f\"Training data shape: {X_train.shape}\")\n",
    "print(f\"Test data shape: {X_test.shape}\")\n"
   ]
  },
  {
   "cell_type": "code",
   "execution_count": null,
   "id": "e3abc489-923c-4f88-950e-794fe2e9e5b2",
   "metadata": {},
   "outputs": [],
   "source": []
  }
 ],
 "metadata": {
  "kernelspec": {
   "display_name": "Python 3 (ipykernel)",
   "language": "python",
   "name": "python3"
  },
  "language_info": {
   "codemirror_mode": {
    "name": "ipython",
    "version": 3
   },
   "file_extension": ".py",
   "mimetype": "text/x-python",
   "name": "python",
   "nbconvert_exporter": "python",
   "pygments_lexer": "ipython3",
   "version": "3.11.0"
  }
 },
 "nbformat": 4,
 "nbformat_minor": 5
}
